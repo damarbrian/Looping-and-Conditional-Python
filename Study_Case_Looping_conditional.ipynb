{
 "cells": [
  {
   "cell_type": "markdown",
   "metadata": {},
   "source": [
    "Nama  : Briandamar Kencana\n",
    "\n",
    "Kelas : Data Engineering Batch 4"
   ]
  },
  {
   "cell_type": "markdown",
   "metadata": {},
   "source": [
    "# ***Study Case***"
   ]
  },
  {
   "cell_type": "code",
   "execution_count": 30,
   "metadata": {},
   "outputs": [],
   "source": [
    "list_nama = ['agus', 'sari', 'putri', 'bambang']\n",
    "list_nilai_a = [70, 63, 84, 65]\n",
    "list_nilai_b = [63, 44, 79, 83]"
   ]
  },
  {
   "cell_type": "markdown",
   "metadata": {},
   "source": [
    "1. Dari `list_nama`, `list_nilai_a`, dan `list_nilai_b` di atas, buat ***list of dictionaries*** dgn key = **nama**, & **nilai_rata**. Contoh:\n",
    "```\n",
    "[{'nama': 'agus', 'nilai_rata': 66.5},\n",
    " {'nama': 'sari', 'nilai_rata': 53.5},\n",
    " {'nama': 'putri', 'nilai_rata': 81.5},\n",
    " {'nama': 'bambang', 'nilai_rata': 74.0}]\n",
    "```\n",
    "2. kelompokkan nilai berdasarkan range nilai:\n",
    "\n",
    "*   **A**: 80 - 100\n",
    "*   **B**: 70 - 79\n",
    "*   **C**: 60 - 69\n",
    "*   **D**: kurang dari 59\n",
    "\n",
    "3. masukkan nama-nama siswa berdasarkan nilai rata-rata masing-masing, ke dalam **list_range_a**, **list_range_b**, **list_range_c**, **list_range_d**\n"
   ]
  },
  {
   "cell_type": "markdown",
   "metadata": {},
   "source": [
    "# ***Jawaban***"
   ]
  },
  {
   "cell_type": "code",
   "execution_count": 31,
   "metadata": {},
   "outputs": [],
   "source": [
    "list_of_dict = []\n",
    "\n",
    "for nama, nilai_a, nilai_b in zip(list_nama, list_nilai_a, list_nilai_b):\n",
    "  hasil = {\n",
    "      'nama': nama,\n",
    "      'nilai_rata': (nilai_a+nilai_b)/2\n",
    "  }\n",
    "  list_of_dict.append(hasil)"
   ]
  },
  {
   "cell_type": "code",
   "execution_count": 32,
   "metadata": {
    "scrolled": true
   },
   "outputs": [
    {
     "data": {
      "text/plain": [
       "[{'nama': 'agus', 'nilai_rata': 66.5},\n",
       " {'nama': 'sari', 'nilai_rata': 53.5},\n",
       " {'nama': 'putri', 'nilai_rata': 81.5},\n",
       " {'nama': 'bambang', 'nilai_rata': 74.0}]"
      ]
     },
     "execution_count": 32,
     "metadata": {},
     "output_type": "execute_result"
    }
   ],
   "source": [
    "list_of_dict"
   ]
  },
  {
   "cell_type": "markdown",
   "metadata": {},
   "source": [
    "A. *Menggunakan For Loop*"
   ]
  },
  {
   "cell_type": "code",
   "execution_count": 33,
   "metadata": {},
   "outputs": [
    {
     "name": "stdout",
     "output_type": "stream",
     "text": [
      "siswa bernama agus dgn nilai mean: 66.5, termasuk ke kelompok C: 60 - 69 !\n",
      "siswa bernama sari dgn nilai mean: 53.5, termasuk ke kelompok D: kurang dari 59 !\n",
      "siswa bernama putri dgn nilai mean: 81.5, termasuk ke kelompok A: 80 - 100 !\n",
      "siswa bernama bambang dgn nilai mean: 74.0, termasuk ke kelompok B: 70 - 79 !\n"
     ]
    }
   ],
   "source": [
    "list_range_a = []\n",
    "list_range_b = []\n",
    "list_range_c = []\n",
    "list_range_d = []\n",
    "\n",
    "for value in list_of_dict:\n",
    "    #A: 80 - 100\n",
    "    if value['nilai_rata'] >= 80 and value['nilai_rata'] <=100:\n",
    "        print(f'siswa bernama {value[\"nama\"]} dgn nilai mean: {value[\"nilai_rata\"]}, termasuk ke kelompok A: 80 - 100 !')\n",
    "        list_range_a.append(value[\"nama\"])\n",
    "    #B: 70 - 79\n",
    "    elif value['nilai_rata'] >= 70 and value['nilai_rata'] <=79:\n",
    "        print(f'siswa bernama {value[\"nama\"]} dgn nilai mean: {value[\"nilai_rata\"]}, termasuk ke kelompok B: 70 - 79 !')\n",
    "        list_range_b.append(value[\"nama\"])\n",
    "    #C: 60 - 69\n",
    "    elif value['nilai_rata'] >= 60 and value['nilai_rata'] <=69:\n",
    "        print(f'siswa bernama {value[\"nama\"]} dgn nilai mean: {value[\"nilai_rata\"]}, termasuk ke kelompok C: 60 - 69 !')\n",
    "        list_range_c.append(value[\"nama\"])\n",
    "    #D: kurang dari 59\n",
    "    elif value['nilai_rata'] <=59:\n",
    "        print(f'siswa bernama {value[\"nama\"]} dgn nilai mean: {value[\"nilai_rata\"]}, termasuk ke kelompok D: kurang dari 59 !')\n",
    "        list_range_d.append(value[\"nama\"])\n",
    "    else:\n",
    "        print(f'data siswa bernama {value[\"nama\"]} ERORR!')"
   ]
  },
  {
   "cell_type": "code",
   "execution_count": 34,
   "metadata": {
    "scrolled": false
   },
   "outputs": [
    {
     "name": "stdout",
     "output_type": "stream",
     "text": [
      "['putri']\n",
      "['bambang']\n",
      "['agus']\n",
      "['sari']\n"
     ]
    }
   ],
   "source": [
    "print(list_range_a)\n",
    "print(list_range_b)\n",
    "print(list_range_c)\n",
    "print(list_range_d)"
   ]
  },
  {
   "cell_type": "markdown",
   "metadata": {},
   "source": [
    "B. *Menggunakan While Loop*"
   ]
  },
  {
   "cell_type": "code",
   "execution_count": 39,
   "metadata": {},
   "outputs": [
    {
     "name": "stdout",
     "output_type": "stream",
     "text": [
      "siswa bernama agus dgn nilai mean: 66.5, termasuk ke kelompok C: 60 - 69 !\n",
      "siswa bernama sari dgn nilai mean: 53.5, termasuk ke kelompok D: kurang dari 59 !\n",
      "siswa bernama putri dgn nilai mean: 81.5, termasuk ke kelompok A: 80 - 100 !\n",
      "siswa bernama bambang dgn nilai mean: 74.0, termasuk ke kelompok B: 70 - 79 !\n"
     ]
    }
   ],
   "source": [
    "list_range_a = []\n",
    "list_range_b = []\n",
    "list_range_c = []\n",
    "list_range_d = []\n",
    "idx = 0\n",
    "\n",
    "while idx < len(list_of_dict):\n",
    "    #A: 80 - 100\n",
    "    if list_of_dict[idx][\"nilai_rata\"] >= 80 and list_of_dict[idx][\"nilai_rata\"] <=100:\n",
    "        print(f'siswa bernama {list_of_dict[idx][\"nama\"]} dgn nilai mean: {list_of_dict[idx][\"nilai_rata\"]}, termasuk ke kelompok A: 80 - 100 !')\n",
    "        list_range_a.append(list_of_dict[idx][\"nama\"])\n",
    "    #B: 70 - 79\n",
    "    elif list_of_dict[idx][\"nilai_rata\"] >= 70 and list_of_dict[idx][\"nilai_rata\"] <=79:\n",
    "        print(f'siswa bernama {list_of_dict[idx][\"nama\"]} dgn nilai mean: {list_of_dict[idx][\"nilai_rata\"]}, termasuk ke kelompok B: 70 - 79 !')\n",
    "        list_range_b.append(list_of_dict[idx][\"nama\"])\n",
    "    #C: 60 - 69\n",
    "    elif list_of_dict[idx][\"nilai_rata\"] >= 60 and list_of_dict[idx][\"nilai_rata\"] <=69:\n",
    "        print(f'siswa bernama {list_of_dict[idx][\"nama\"]} dgn nilai mean: {list_of_dict[idx][\"nilai_rata\"]}, termasuk ke kelompok C: 60 - 69 !')\n",
    "        list_range_c.append(list_of_dict[idx][\"nama\"])\n",
    "    #D: kurang dari 59\n",
    "    elif list_of_dict[idx][\"nilai_rata\"] <=59:\n",
    "        print(f'siswa bernama {list_of_dict[idx][\"nama\"]} dgn nilai mean: {list_of_dict[idx][\"nilai_rata\"]}, termasuk ke kelompok D: kurang dari 59 !')\n",
    "        list_range_d.append(list_of_dict[idx][\"nama\"])\n",
    "    else:\n",
    "        print(f'data siswa bernama {list_of_dict[idx][\"nama\"]} ERORR!')\n",
    "  \n",
    "    idx += 1"
   ]
  },
  {
   "cell_type": "code",
   "execution_count": 40,
   "metadata": {},
   "outputs": [
    {
     "name": "stdout",
     "output_type": "stream",
     "text": [
      "['putri']\n",
      "['bambang']\n",
      "['agus']\n",
      "['sari']\n"
     ]
    }
   ],
   "source": [
    "print(list_range_a)\n",
    "print(list_range_b)\n",
    "print(list_range_c)\n",
    "print(list_range_d)"
   ]
  },
  {
   "cell_type": "markdown",
   "metadata": {},
   "source": [
    "# ***Terimakasih / Thank You***"
   ]
  }
 ],
 "metadata": {
  "kernelspec": {
   "display_name": "Python 3",
   "language": "python",
   "name": "python3"
  },
  "language_info": {
   "codemirror_mode": {
    "name": "ipython",
    "version": 3
   },
   "file_extension": ".py",
   "mimetype": "text/x-python",
   "name": "python",
   "nbconvert_exporter": "python",
   "pygments_lexer": "ipython3",
   "version": "3.7.4"
  }
 },
 "nbformat": 4,
 "nbformat_minor": 2
}
