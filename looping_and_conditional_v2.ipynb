{
 "cells": [
  {
   "cell_type": "markdown",
   "metadata": {
    "id": "wqGtYQ7ViZcO"
   },
   "source": [
    "# *Control Flow*"
   ]
  },
  {
   "cell_type": "code",
   "execution_count": 17,
   "metadata": {
    "id": "tomsjrm5RYiO"
   },
   "outputs": [],
   "source": [
    "a = 1\n",
    "b = 3\n",
    "c = [1, 2]\n",
    "d = []"
   ]
  },
  {
   "cell_type": "markdown",
   "metadata": {
    "id": "F1wF9J4BRmia"
   },
   "source": [
    "## *Condition*"
   ]
  },
  {
   "cell_type": "code",
   "execution_count": 2,
   "metadata": {
    "colab": {
     "base_uri": "https://localhost:8080/"
    },
    "id": "gCp2wpl5RhTj",
    "outputId": "39e12e58-cccb-4f46-ca14-db0d329cc530"
   },
   "outputs": [
    {
     "name": "stdout",
     "output_type": "stream",
     "text": [
      "False\n",
      "True\n",
      "True\n",
      "True\n",
      "False\n",
      "False\n"
     ]
    }
   ],
   "source": [
    "print(a == b)\n",
    "print(a != b)\n",
    "print(a < b)\n",
    "print(a <= b)\n",
    "print(a > b)\n",
    "print(a >= b)"
   ]
  },
  {
   "cell_type": "code",
   "execution_count": 3,
   "metadata": {
    "colab": {
     "base_uri": "https://localhost:8080/"
    },
    "id": "oRwt5TJOp2Bl",
    "outputId": "4fec6dd4-ee80-48ce-81ff-4293d7efa84d"
   },
   "outputs": [
    {
     "name": "stdout",
     "output_type": "stream",
     "text": [
      "True\n"
     ]
    }
   ],
   "source": [
    "print(a in c)"
   ]
  },
  {
   "cell_type": "code",
   "execution_count": 4,
   "metadata": {
    "colab": {
     "base_uri": "https://localhost:8080/"
    },
    "id": "P_mcUYfMp3oZ",
    "outputId": "c817b01d-d1b0-499d-a6e6-19016ec73cc3"
   },
   "outputs": [
    {
     "name": "stdout",
     "output_type": "stream",
     "text": [
      "True\n"
     ]
    }
   ],
   "source": [
    "print(isinstance(a,int))"
   ]
  },
  {
   "cell_type": "code",
   "execution_count": 19,
   "metadata": {
    "colab": {
     "base_uri": "https://localhost:8080/"
    },
    "id": "TfPUjaZgp7vj",
    "outputId": "bd818bb3-62e7-499e-c11a-e0c485697e9e"
   },
   "outputs": [
    {
     "name": "stdout",
     "output_type": "stream",
     "text": [
      "False\n"
     ]
    }
   ],
   "source": [
    "print(d is False)"
   ]
  },
  {
   "cell_type": "code",
   "execution_count": 7,
   "metadata": {
    "colab": {
     "base_uri": "https://localhost:8080/"
    },
    "id": "NojTotmNZEkz",
    "outputId": "e838b8db-8d6e-4f1b-96a1-5fee94a4476d"
   },
   "outputs": [
    {
     "name": "stdout",
     "output_type": "stream",
     "text": [
      "True\n"
     ]
    }
   ],
   "source": [
    "print(len(d) == 0)"
   ]
  },
  {
   "cell_type": "markdown",
   "metadata": {
    "id": "LF47s2vXXg7f"
   },
   "source": [
    "## *Multiple Conditions*"
   ]
  },
  {
   "cell_type": "code",
   "execution_count": 20,
   "metadata": {
    "colab": {
     "base_uri": "https://localhost:8080/"
    },
    "id": "EpSIwrHPUGHq",
    "outputId": "8e8d1d72-bc5c-45fc-f66e-72845a4a90f1"
   },
   "outputs": [
    {
     "name": "stdout",
     "output_type": "stream",
     "text": [
      "False\n",
      "True\n"
     ]
    }
   ],
   "source": [
    "print(a == b and a in c)\n",
    "print(a == b or a in c)"
   ]
  },
  {
   "cell_type": "markdown",
   "metadata": {
    "id": "O9Ob9xp1ICC8"
   },
   "source": [
    "## *If, Elif, & Else Statements*"
   ]
  },
  {
   "cell_type": "markdown",
   "metadata": {
    "id": "ANcXkCzSmlFu"
   },
   "source": [
    "### *Simple If, Elif, & Else Statment*"
   ]
  },
  {
   "cell_type": "code",
   "execution_count": 22,
   "metadata": {
    "id": "V4iPd2ZSmQWQ"
   },
   "outputs": [],
   "source": [
    "a = 1\n",
    "if a > 2:\n",
    "  print('a lebih besar dari 2')"
   ]
  },
  {
   "cell_type": "code",
   "execution_count": 23,
   "metadata": {
    "colab": {
     "base_uri": "https://localhost:8080/"
    },
    "id": "shzny-EQmQWs",
    "outputId": "70fc5473-1977-4add-d31f-03aa1f69f859"
   },
   "outputs": [
    {
     "name": "stdout",
     "output_type": "stream",
     "text": [
      "a lebih kecil dari b\n"
     ]
    }
   ],
   "source": [
    "a = 2\n",
    "b = 3\n",
    "if a > b:\n",
    "  print('a lebih besar dari b')\n",
    "else:\n",
    "  print('a lebih kecil dari b')"
   ]
  },
  {
   "cell_type": "code",
   "execution_count": 26,
   "metadata": {
    "colab": {
     "base_uri": "https://localhost:8080/"
    },
    "id": "Phrs__1Scu_f",
    "outputId": "ec64d58d-237f-4b20-f726-a9dcba50363b"
   },
   "outputs": [
    {
     "name": "stdout",
     "output_type": "stream",
     "text": [
      "a adalah angka negatif: nilai a adalah -2\n"
     ]
    }
   ],
   "source": [
    "a = -2\n",
    "if a > 0:\n",
    "  print(f'a adalah angka positif: nilai a adalah {a}')\n",
    "elif a == 0:\n",
    "  print('a adalah 0')\n",
    "else:\n",
    "  print(f'a adalah angka negatif: nilai a adalah {a}')"
   ]
  },
  {
   "cell_type": "markdown",
   "metadata": {
    "id": "ISSBT0TOm4n2"
   },
   "source": [
    "### *If, Elif, & Else Statement with Logical Operator `AND` & `OR`*"
   ]
  },
  {
   "cell_type": "code",
   "execution_count": 27,
   "metadata": {
    "id": "hFY_Nej8mgJX"
   },
   "outputs": [],
   "source": [
    "nama = 'andi'\n",
    "umur = 26"
   ]
  },
  {
   "cell_type": "code",
   "execution_count": 28,
   "metadata": {
    "colab": {
     "base_uri": "https://localhost:8080/"
    },
    "id": "dHElcRGKmcYM",
    "outputId": "00564961-9d6e-41d0-b9e5-39e32e24d7af"
   },
   "outputs": [
    {
     "name": "stdout",
     "output_type": "stream",
     "text": [
      "nama atau umur cocok\n"
     ]
    }
   ],
   "source": [
    "if nama == 'budi' and umur == 26:\n",
    "  print('nama dan umur cocok!')\n",
    "elif nama == 'budi' or umur == 26:\n",
    "  print('nama atau umur cocok loh')\n",
    "else:\n",
    "  print('nama & umur tidak cocok')"
   ]
  },
  {
   "cell_type": "code",
   "execution_count": 29,
   "metadata": {
    "colab": {
     "base_uri": "https://localhost:8080/"
    },
    "id": "rY6UPOlNgTRE",
    "outputId": "9ca7606d-a082-4d4a-c815-47c727978722"
   },
   "outputs": [
    {
     "name": "stdout",
     "output_type": "stream",
     "text": [
      "nama tidak cocok, tapi umur cocok\n"
     ]
    }
   ],
   "source": [
    "if nama == 'budi' and umur == 26:\n",
    "  print('nama dan umur cocok!')\n",
    "elif nama == 'budi' and umur != 26:\n",
    "  print('nama cocok, tapi umur tidak cocok')\n",
    "elif nama != 'budi' and umur == 26:\n",
    "  print('nama tidak cocok, tapi umur cocok')\n",
    "else:\n",
    "  print('nama & umur tidak cocok')"
   ]
  },
  {
   "cell_type": "markdown",
   "metadata": {
    "id": "6qGviXJCeknZ"
   },
   "source": [
    "### *Nested If, Elif, & Else Statement*"
   ]
  },
  {
   "cell_type": "code",
   "execution_count": 123,
   "metadata": {
    "id": "f3syk5rznStW"
   },
   "outputs": [],
   "source": [
    "a = 9.3"
   ]
  },
  {
   "cell_type": "code",
   "execution_count": 124,
   "metadata": {
    "colab": {
     "base_uri": "https://localhost:8080/"
    },
    "id": "GxT0nwrgekVS",
    "outputId": "d8b8717f-9490-4b51-9ed8-b06749f65829"
   },
   "outputs": [
    {
     "name": "stdout",
     "output_type": "stream",
     "text": [
      "a adalah selain string dan int\n"
     ]
    }
   ],
   "source": [
    "if isinstance(a,int):\n",
    "  if a > 0:\n",
    "    if a >= 5:\n",
    "      print(f'a adalah angka positif lebih dari sama dengan 5. Nilai a adalah {a}')\n",
    "    else:\n",
    "      print(f'a adalah angka positif kurang dari 5. Nilai a adalah {a}')\n",
    "  elif a == 0:\n",
    "    print('a adalah 0')\n",
    "  else:\n",
    "    print(f'a adalah angka negatif: nilai a adalah {a}')\n",
    "elif isinstance(a,str):\n",
    "  print('a adalah string')\n",
    "else:\n",
    "  print('a adalah selain string dan int')"
   ]
  },
  {
   "cell_type": "markdown",
   "metadata": {
    "id": "lPMr1dcEiemC"
   },
   "source": [
    "# *Looping*"
   ]
  },
  {
   "cell_type": "code",
   "execution_count": 45,
   "metadata": {
    "id": "cfmzMUvGqOOe"
   },
   "outputs": [],
   "source": [
    "list_buah = ['apel', 'anggur', 'belimbing', 'ceri', 'duren']"
   ]
  },
  {
   "cell_type": "markdown",
   "metadata": {
    "id": "jVO6XHrEUN-o"
   },
   "source": [
    "## *For Loop*"
   ]
  },
  {
   "cell_type": "markdown",
   "metadata": {
    "id": "VB4BlTtfqJNL"
   },
   "source": [
    "### *For Loop by Value*"
   ]
  },
  {
   "cell_type": "markdown",
   "metadata": {
    "id": "xFS0J74vqccD"
   },
   "source": [
    "*loop by value*, tanpa *index*"
   ]
  },
  {
   "cell_type": "code",
   "execution_count": 37,
   "metadata": {
    "colab": {
     "base_uri": "https://localhost:8080/"
    },
    "id": "5OMGvfQHqMv7",
    "outputId": "16dcd669-7a17-4441-966d-17c536f602f8"
   },
   "outputs": [
    {
     "name": "stdout",
     "output_type": "stream",
     "text": [
      "apel\n",
      "anggur\n",
      "belimbing\n",
      "ceri\n",
      "duren\n"
     ]
    }
   ],
   "source": [
    "for value in list_buah:\n",
    "  print(value)"
   ]
  },
  {
   "cell_type": "markdown",
   "metadata": {
    "id": "ZCrSAvLXwibB"
   },
   "source": [
    "### *For Loop by Index*"
   ]
  },
  {
   "cell_type": "markdown",
   "metadata": {
    "id": "2wnC5XryxJ5g"
   },
   "source": [
    "Range"
   ]
  },
  {
   "cell_type": "code",
   "execution_count": 54,
   "metadata": {
    "colab": {
     "base_uri": "https://localhost:8080/"
    },
    "id": "_4kkQ0aUwklb",
    "outputId": "fba5b7ae-4e22-4680-adf1-dba51d0af4f0"
   },
   "outputs": [
    {
     "name": "stdout",
     "output_type": "stream",
     "text": [
      "<class 'range'>\n",
      "range(0, 8)\n"
     ]
    }
   ],
   "source": [
    "var_range = range(8)\n",
    "\n",
    "print(type(var_range))\n",
    "print(var_range)"
   ]
  },
  {
   "cell_type": "code",
   "execution_count": 55,
   "metadata": {
    "colab": {
     "base_uri": "https://localhost:8080/"
    },
    "id": "mB6ymFHcxAYg",
    "outputId": "5475f07f-a8ce-42e7-95ee-b0814711f5ea"
   },
   "outputs": [
    {
     "name": "stdout",
     "output_type": "stream",
     "text": [
      "[0, 1, 2, 3, 4, 5, 6, 7]\n"
     ]
    }
   ],
   "source": [
    "print(list(var_range))"
   ]
  },
  {
   "cell_type": "code",
   "execution_count": 56,
   "metadata": {
    "colab": {
     "base_uri": "https://localhost:8080/"
    },
    "id": "YUgQm4BAys24",
    "outputId": "9e8598af-da33-449c-d7bf-973a6545ce04"
   },
   "outputs": [
    {
     "name": "stdout",
     "output_type": "stream",
     "text": [
      "0\n",
      "1\n",
      "2\n",
      "3\n",
      "4\n",
      "5\n",
      "6\n",
      "7\n"
     ]
    }
   ],
   "source": [
    "for idx in range(8):\n",
    "  print(idx)"
   ]
  },
  {
   "cell_type": "markdown",
   "metadata": {
    "id": "4R4brBxAxLSh"
   },
   "source": [
    "*Loop by index using range*"
   ]
  },
  {
   "cell_type": "code",
   "execution_count": 58,
   "metadata": {
    "colab": {
     "base_uri": "https://localhost:8080/"
    },
    "id": "E-dR9BXrt0m7",
    "outputId": "24099a8d-8c3a-4b78-fc76-160e11547f34"
   },
   "outputs": [
    {
     "name": "stdout",
     "output_type": "stream",
     "text": [
      "5\n"
     ]
    }
   ],
   "source": [
    "print(len(list_buah))"
   ]
  },
  {
   "cell_type": "code",
   "execution_count": 74,
   "metadata": {
    "colab": {
     "base_uri": "https://localhost:8080/"
    },
    "id": "FAuR2_Y_xNYn",
    "outputId": "9f8d5413-2697-4d6e-b93b-525cde63778a"
   },
   "outputs": [
    {
     "name": "stdout",
     "output_type": "stream",
     "text": [
      "0\n",
      "1\n",
      "2\n",
      "3\n",
      "4\n"
     ]
    }
   ],
   "source": [
    "for idx in range(len(list_buah)):\n",
    "  print(idx)"
   ]
  },
  {
   "cell_type": "code",
   "execution_count": 65,
   "metadata": {
    "colab": {
     "base_uri": "https://localhost:8080/"
    },
    "id": "jKeSnK3BuDx8",
    "outputId": "620e349b-5ffc-4328-eba6-b07112aabe16"
   },
   "outputs": [
    {
     "name": "stdout",
     "output_type": "stream",
     "text": [
      "apel\n",
      "anggur\n",
      "belimbing\n",
      "ceri\n"
     ]
    }
   ],
   "source": [
    "print(list_buah[0])\n",
    "print(list_buah[1])\n",
    "print(list_buah[2])\n",
    "print(list_buah[3])\n",
    "print(list_buah[0:4])"
   ]
  },
  {
   "cell_type": "code",
   "execution_count": 68,
   "metadata": {
    "colab": {
     "base_uri": "https://localhost:8080/"
    },
    "id": "fpyNuhovxWOV",
    "outputId": "860b67e5-67fc-470b-932f-db2f84fc741b"
   },
   "outputs": [
    {
     "name": "stdout",
     "output_type": "stream",
     "text": [
      "0 apel\n",
      "1 anggur\n",
      "2 belimbing\n",
      "3 ceri\n",
      "4 duren\n"
     ]
    }
   ],
   "source": [
    "for idx in range(len(list_buah)):\n",
    "  print(idx, list_buah[idx])"
   ]
  },
  {
   "cell_type": "code",
   "execution_count": 67,
   "metadata": {
    "colab": {
     "base_uri": "https://localhost:8080/"
    },
    "id": "JLJfOK4-xscx",
    "outputId": "764c1085-aec7-4505-e656-40f754f042c8"
   },
   "outputs": [
    {
     "name": "stdout",
     "output_type": "stream",
     "text": [
      "0\n",
      "1\n",
      "2\n",
      "3\n",
      "index ke-3 BUKAN belimbing\n",
      "4\n"
     ]
    }
   ],
   "source": [
    "for idx in range(len(list_buah)):\n",
    "  print(idx)\n",
    "  if idx == 3:\n",
    "    if list_buah[3] == 'belimbing':\n",
    "      print('index ke-3 adalah belimbing!')\n",
    "    else:\n",
    "      print('index ke-3 BUKAN belimbing')"
   ]
  },
  {
   "cell_type": "markdown",
   "metadata": {
    "id": "9bwBg_a7r7xX"
   },
   "source": [
    "### *For Loop by Value & Index*"
   ]
  },
  {
   "cell_type": "markdown",
   "metadata": {
    "id": "YsW7czXUsCOS"
   },
   "source": [
    "untuk bisa looping mendapatkan *value* & *index* nya, bisa menggunakan `enumerate()`"
   ]
  },
  {
   "cell_type": "code",
   "execution_count": 101,
   "metadata": {
    "colab": {
     "base_uri": "https://localhost:8080/"
    },
    "id": "NPHKupE0r_pN",
    "outputId": "36a3c148-bc3c-49a9-9630-5c2227bb26a3"
   },
   "outputs": [
    {
     "name": "stdout",
     "output_type": "stream",
     "text": [
      "index ke-3 BUKAN belimbing\n"
     ]
    }
   ],
   "source": [
    "for idx, value in enumerate(list_buah):\n",
    "  if idx == 3:\n",
    "    if value == 'belimbing':\n",
    "      print('index ke-3 adalah belimbing!')\n",
    "    else:\n",
    "      print('index ke-3 BUKAN belimbing')"
   ]
  },
  {
   "cell_type": "markdown",
   "metadata": {
    "id": "vIQw-CGItZnf"
   },
   "source": [
    "bisa set *index* awalnya dgn parameter `start=<index_awal>`"
   ]
  },
  {
   "cell_type": "code",
   "execution_count": 73,
   "metadata": {
    "colab": {
     "base_uri": "https://localhost:8080/"
    },
    "id": "2rvQn8LwtY_X",
    "outputId": "8fcc6231-3967-46e9-f597-f046edafd04f"
   },
   "outputs": [
    {
     "name": "stdout",
     "output_type": "stream",
     "text": [
      "5 apel\n",
      "6 anggur\n",
      "7 belimbing\n",
      "8 ceri\n",
      "9 duren\n"
     ]
    }
   ],
   "source": [
    "for idx, value in enumerate(list_buah, start=5):\n",
    "  print(idx, value)"
   ]
  },
  {
   "cell_type": "markdown",
   "metadata": {
    "id": "bUtrdYY_oS77"
   },
   "source": [
    "## *While Loop*"
   ]
  },
  {
   "cell_type": "markdown",
   "metadata": {
    "id": "zg2qygR3bfLO"
   },
   "source": [
    "### *simple while loop*"
   ]
  },
  {
   "cell_type": "code",
   "execution_count": 83,
   "metadata": {
    "colab": {
     "base_uri": "https://localhost:8080/"
    },
    "id": "XDq__YYebdBH",
    "outputId": "ad4517ea-e2ff-4a6a-d73d-989df13c8bcf"
   },
   "outputs": [
    {
     "name": "stdout",
     "output_type": "stream",
     "text": [
      "0\n",
      "1\n",
      "2\n",
      "3\n",
      "4\n",
      "5\n"
     ]
    }
   ],
   "source": [
    "a = 0\n",
    "b = 5\n",
    "\n",
    "while a <= b:\n",
    "  print(a)\n",
    "  a = a + 1"
   ]
  },
  {
   "cell_type": "markdown",
   "metadata": {
    "id": "IwrzgunfcjS1"
   },
   "source": [
    "### *while loop with else*"
   ]
  },
  {
   "cell_type": "code",
   "execution_count": 78,
   "metadata": {
    "colab": {
     "base_uri": "https://localhost:8080/"
    },
    "id": "Vos_tqhKC4oM",
    "outputId": "f92a8e7a-467b-4304-87df-d7d92f0d901d"
   },
   "outputs": [
    {
     "name": "stdout",
     "output_type": "stream",
     "text": [
      "0\n",
      "1\n",
      "2\n",
      "3\n",
      "4\n",
      "5\n",
      "a skrg sudah lebih dari b\n"
     ]
    }
   ],
   "source": [
    "a = 0\n",
    "b = 5\n",
    "\n",
    "while a <= b:\n",
    "  print(a)\n",
    "  a = a + 1\n",
    "else:\n",
    "  print('a skrg sudah lebih dari b')"
   ]
  },
  {
   "cell_type": "code",
   "execution_count": 91,
   "metadata": {
    "colab": {
     "base_uri": "https://localhost:8080/"
    },
    "id": "vpz1zswixpkr",
    "outputId": "f769dee4-b6e5-4a7d-9545-e69ecc134763"
   },
   "outputs": [
    {
     "name": "stdout",
     "output_type": "stream",
     "text": [
      "True\n",
      "True\n",
      "True\n"
     ]
    }
   ],
   "source": [
    "is_found = True\n",
    "idx = 0\n",
    "\n",
    "while is_found is True:\n",
    "  print(is_found)\n",
    "  idx += 1\n",
    "\n",
    "  if idx == 3:\n",
    "    is_found = False"
   ]
  },
  {
   "cell_type": "markdown",
   "metadata": {
    "id": "ybUfwp9VdBKh"
   },
   "source": [
    "## *Pass, Break, & Continue Statements*"
   ]
  },
  {
   "cell_type": "markdown",
   "metadata": {
    "id": "KKZsY0hleJ3a"
   },
   "source": [
    "### *pass statement*\n",
    "\n",
    "*pass statement* tidak akan mempengaruhi apa-apa"
   ]
  },
  {
   "cell_type": "code",
   "execution_count": 94,
   "metadata": {
    "colab": {
     "base_uri": "https://localhost:8080/"
    },
    "id": "c0S9EL5JeLb5",
    "outputId": "03d9eece-530d-4c3a-c8b7-3f8b69ff7898"
   },
   "outputs": [
    {
     "name": "stdout",
     "output_type": "stream",
     "text": [
      "index = 0\n",
      "index = 1\n",
      "index = 2\n",
      "index = 3\n",
      "index = 4\n"
     ]
    }
   ],
   "source": [
    "for idx in range(5):\n",
    "  if idx == 3:\n",
    "    pass\n",
    "  print(f'index = {idx}')"
   ]
  },
  {
   "cell_type": "markdown",
   "metadata": {
    "id": "n9Q-rGGOfiP-"
   },
   "source": [
    "### *break statement*"
   ]
  },
  {
   "cell_type": "markdown",
   "metadata": {
    "id": "lpLIsnv4gE7W"
   },
   "source": [
    "*break statement* akan berhenti pada iterasi skrg, dan keluar dari loop"
   ]
  },
  {
   "cell_type": "code",
   "execution_count": 95,
   "metadata": {
    "colab": {
     "base_uri": "https://localhost:8080/"
    },
    "id": "QWVSlKb3fzHa",
    "outputId": "4ccc1886-08f7-4457-b5e3-be2c660aebbd"
   },
   "outputs": [
    {
     "name": "stdout",
     "output_type": "stream",
     "text": [
      "index = 0\n",
      "index = 1\n",
      "index = 2\n"
     ]
    }
   ],
   "source": [
    "for idx in range(len(list_buah)):\n",
    "  if idx == 3:\n",
    "    break\n",
    "  print(f'index = {idx}')"
   ]
  },
  {
   "cell_type": "code",
   "execution_count": 96,
   "metadata": {
    "colab": {
     "base_uri": "https://localhost:8080/"
    },
    "id": "k0hgKylsiIR7",
    "outputId": "7d2c0172-6fa9-4132-dc2c-e13b2be04526"
   },
   "outputs": [
    {
     "name": "stdout",
     "output_type": "stream",
     "text": [
      "a: 0\n",
      "a: 1\n",
      "a: 2\n"
     ]
    }
   ],
   "source": [
    "a = 0\n",
    "b = 5\n",
    "\n",
    "while a <= b:\n",
    "  print(f'a: {a}')\n",
    "  a = a + 1\n",
    "\n",
    "  if a == 3:\n",
    "    break"
   ]
  },
  {
   "cell_type": "code",
   "execution_count": 98,
   "metadata": {
    "colab": {
     "base_uri": "https://localhost:8080/"
    },
    "id": "AG788ETDzhMf",
    "outputId": "c78248ec-64c6-4b42-85ba-eef7b0da5a46"
   },
   "outputs": [
    {
     "name": "stdout",
     "output_type": "stream",
     "text": [
      "True\n",
      "True\n",
      "True\n"
     ]
    }
   ],
   "source": [
    "idx = 0\n",
    "\n",
    "while True:\n",
    "  print(True)\n",
    "  idx += 1\n",
    "\n",
    "  if idx == 3:\n",
    "    break"
   ]
  },
  {
   "cell_type": "markdown",
   "metadata": {
    "id": "_HfIfxjwh1qX"
   },
   "source": [
    "### *continue statement*"
   ]
  },
  {
   "cell_type": "markdown",
   "metadata": {
    "id": "JmodZ3Jth_3D"
   },
   "source": [
    "*continue statement* akan skip iterasi skrg, dan lanjut iterasi selanjutnya"
   ]
  },
  {
   "cell_type": "code",
   "execution_count": 99,
   "metadata": {
    "colab": {
     "base_uri": "https://localhost:8080/"
    },
    "id": "KIJeD0_zh5JK",
    "outputId": "62b63aad-9de0-4a4f-bc27-3433c079d4ff"
   },
   "outputs": [
    {
     "name": "stdout",
     "output_type": "stream",
     "text": [
      "index = 0\n",
      "index = 1\n",
      "index = 2\n",
      "index = 4\n"
     ]
    }
   ],
   "source": [
    "for idx in range(5):\n",
    "  if idx == 3:\n",
    "    continue\n",
    "  print(f'index = {idx}')"
   ]
  },
  {
   "cell_type": "code",
   "execution_count": 135,
   "metadata": {
    "id": "gpEw4dWm2HIx"
   },
   "outputs": [],
   "source": [
    "list_of_dicts = [\n",
    "    {'nama': 'agi', 'umur': 20},\n",
    "    {'nama': 'budi', 'umur': 30},\n",
    "    {'nama': 'anton', 'umur': 40}\n",
    "]"
   ]
  },
  {
   "cell_type": "code",
   "execution_count": 136,
   "metadata": {
    "colab": {
     "base_uri": "https://localhost:8080/"
    },
    "id": "LHxuXi022eFz",
    "outputId": "6ed66129-15f8-4992-a2e9-66b8e0a188f6"
   },
   "outputs": [
    {
     "name": "stdout",
     "output_type": "stream",
     "text": [
      "{'nama': 'agi', 'umur': 20}\n",
      "{'nama': 'budi', 'umur': 30}\n",
      "{'nama': 'anton', 'umur': 40}\n"
     ]
    }
   ],
   "source": [
    "for list_of_dict in list_of_dicts:\n",
    "  print(list_of_dict)"
   ]
  },
  {
   "cell_type": "code",
   "execution_count": 137,
   "metadata": {
    "colab": {
     "base_uri": "https://localhost:8080/"
    },
    "id": "Z8dAiYsi2n1Y",
    "outputId": "c1fc0da1-7aa0-40ae-da59-408fb6190237"
   },
   "outputs": [
    {
     "name": "stdout",
     "output_type": "stream",
     "text": [
      "0 20\n",
      "1 30\n",
      "2 40\n"
     ]
    }
   ],
   "source": [
    "for idx, val in enumerate(list_of_dicts):\n",
    "  print(idx, val['umur'])"
   ]
  },
  {
   "cell_type": "code",
   "execution_count": 144,
   "metadata": {
    "colab": {
     "base_uri": "https://localhost:8080/"
    },
    "id": "XxJeqzpl3SKj",
    "outputId": "24b5669d-2786-4d25-bcc6-77d994bca1df"
   },
   "outputs": [
    {
     "name": "stdout",
     "output_type": "stream",
     "text": [
      "('nama', 'agi')\n",
      "('umur', 20)\n",
      "('nama', 'budi')\n",
      "('umur', 30)\n",
      "('nama', 'anton')\n",
      "('umur', 40)\n"
     ]
    }
   ],
   "source": [
    "for list_of_dict in list_of_dicts:\n",
    "  for value in list_of_dict.items():\n",
    "    print(value)"
   ]
  },
  {
   "cell_type": "code",
   "execution_count": 141,
   "metadata": {
    "id": "SYZWwexw24gs"
   },
   "outputs": [],
   "source": [
    "dict_user = {'nama': 'agi', 'umur': 20, 'sudah_menikah': False, 'alamat': 'jl. selatan no 99'}"
   ]
  },
  {
   "cell_type": "code",
   "execution_count": 142,
   "metadata": {
    "colab": {
     "base_uri": "https://localhost:8080/"
    },
    "id": "w7DagXel3Bn-",
    "outputId": "bc9139c7-5635-442b-b917-f76d7fda42ce"
   },
   "outputs": [
    {
     "name": "stdout",
     "output_type": "stream",
     "text": [
      "('nama', 'agi')\n",
      "('umur', 20)\n",
      "('sudah_menikah', False)\n",
      "('alamat', 'jl. selatan no 99')\n"
     ]
    }
   ],
   "source": [
    "for value in dict_user.items():\n",
    "  print(value)"
   ]
  },
  {
   "cell_type": "code",
   "execution_count": null,
   "metadata": {
    "id": "bIUEiaD83QLr"
   },
   "outputs": [],
   "source": []
  },
  {
   "cell_type": "markdown",
   "metadata": {
    "id": "vm2RNkJHf9m8"
   },
   "source": [
    "# ***Study Case Example***"
   ]
  },
  {
   "cell_type": "code",
   "execution_count": 145,
   "metadata": {
    "id": "0FaCYoPSX3ON"
   },
   "outputs": [],
   "source": [
    "list_nama = ['agus', 'sari', 'putri', 'bambang']\n",
    "list_nilai = [83, 85, 68, 65]"
   ]
  },
  {
   "cell_type": "markdown",
   "metadata": {
    "id": "_HeXjGdTX8pG"
   },
   "source": [
    "**Instruksi:**\n",
    "\n",
    "1. Dari `list_nama`, dan `list_nilai` di atas, buat ***list of dictionaries*** dgn key = **nama**, & **nilai**. Contoh:\n",
    "```\n",
    "[{'nama': 'agus', 'nilai': 83},\n",
    "  {'nama': 'sari', 'nilai': 85},\n",
    "  {'nama': 'putri', 'nilai': 68},\n",
    "  {'nama': 'bambang', 'nilai': 65}]\n",
    "```\n",
    "2. Dengan standar kelulusan **75**, pastikan nama orang yang lulus masuk ke **list_lulus** dan nama orang yang tidak lulus masuk ke **list_remedial**"
   ]
  },
  {
   "cell_type": "code",
   "execution_count": 149,
   "metadata": {
    "colab": {
     "base_uri": "https://localhost:8080/"
    },
    "id": "ZIDqV6ff4Jf-",
    "outputId": "58137044-521d-46ae-ea48-c074e5583273"
   },
   "outputs": [
    {
     "name": "stdout",
     "output_type": "stream",
     "text": [
      "[['agus', 83], ['sari', 85], ['putri', 68], ['bambang', 65]]\n"
     ]
    }
   ],
   "source": [
    "var_list = []\n",
    "\n",
    "for nama, nilai in zip(list_nama, list_nilai):\n",
    "  # print(nama, nilai)\n",
    "  var_list.append([nama, nilai])\n",
    "\n",
    "print(var_list)"
   ]
  },
  {
   "cell_type": "code",
   "execution_count": 178,
   "metadata": {
    "id": "kE08rx6yX9xL"
   },
   "outputs": [],
   "source": [
    "list_of_dict = []\n",
    "\n",
    "for nama, nilai in zip(list_nama, list_nilai):\n",
    "  hasil = {\n",
    "      'nama': nama,\n",
    "      'nilai': nilai\n",
    "  }\n",
    "  list_of_dict.append(hasil)"
   ]
  },
  {
   "cell_type": "code",
   "execution_count": 161,
   "metadata": {
    "colab": {
     "base_uri": "https://localhost:8080/"
    },
    "id": "Z_FKV2R6Z8Hq",
    "outputId": "6984bdaf-a32b-4a83-c0e3-950b56ddf0ee"
   },
   "outputs": [
    {
     "data": {
      "text/plain": [
       "[{'nama': 'agus', 'nilai': 83},\n",
       " {'nama': 'sari', 'nilai': 85},\n",
       " {'nama': 'putri', 'nilai': 68},\n",
       " {'nama': 'bambang', 'nilai': 65}]"
      ]
     },
     "execution_count": 161,
     "metadata": {},
     "output_type": "execute_result"
    }
   ],
   "source": [
    "list_of_dict"
   ]
  },
  {
   "cell_type": "code",
   "execution_count": 167,
   "metadata": {
    "colab": {
     "base_uri": "https://localhost:8080/"
    },
    "id": "NAB4LmbU7l7H",
    "outputId": "708c4718-912a-47d7-bc52-2b32aa57b99d"
   },
   "outputs": [
    {
     "name": "stdout",
     "output_type": "stream",
     "text": [
      "83\n",
      "85\n"
     ]
    }
   ],
   "source": [
    "print(list_of_dict[0]['nilai'])\n",
    "print(list_of_dict[1]['nilai'])"
   ]
  },
  {
   "cell_type": "code",
   "execution_count": 168,
   "metadata": {
    "colab": {
     "base_uri": "https://localhost:8080/"
    },
    "id": "YIzHXWRj67Jx",
    "outputId": "e1d9bdcb-c24c-461a-a204-478473d5c86e"
   },
   "outputs": [
    {
     "name": "stdout",
     "output_type": "stream",
     "text": [
      "siswa bernama agus dgn nilai mtk: 83, dinyatakan LULUS!\n",
      "siswa bernama sari dgn nilai mtk: 85, dinyatakan LULUS!\n",
      "siswa bernama putri dgn nilai mtk: 68, dinyatakan TIDAK lulus!\n",
      "siswa bernama bambang dgn nilai mtk: 65, dinyatakan TIDAK lulus!\n"
     ]
    }
   ],
   "source": [
    "list_lulus = []\n",
    "list_remedial = []\n",
    "idx = 0\n",
    "\n",
    "while idx < len(list_of_dict):\n",
    "  if list_of_dict[idx]['nilai'] >= 75:\n",
    "    print(f'siswa bernama {list_of_dict[idx][\"nama\"]} dgn nilai mtk: {list_of_dict[idx][\"nilai\"]}, dinyatakan LULUS!')\n",
    "    list_lulus.append(list_of_dict[idx][\"nama\"])\n",
    "  elif list_of_dict[idx]['nilai'] < 75:\n",
    "    print(f'siswa bernama {list_of_dict[idx][\"nama\"]} dgn nilai mtk: {list_of_dict[idx][\"nilai\"]}, dinyatakan TIDAK lulus!')\n",
    "    list_remedial.append(list_of_dict[idx][\"nama\"])\n",
    "  else:\n",
    "    print(f'data siswa bernama {list_of_dict[idx][\"nama\"]} ERORR!')\n",
    "  \n",
    "  idx += 1"
   ]
  },
  {
   "cell_type": "code",
   "execution_count": 169,
   "metadata": {
    "colab": {
     "base_uri": "https://localhost:8080/"
    },
    "id": "wFwKyVSV7H7U",
    "outputId": "7680e67f-a30d-44d7-f9f2-6d8f75f30941"
   },
   "outputs": [
    {
     "name": "stdout",
     "output_type": "stream",
     "text": [
      "['agus', 'sari']\n",
      "['putri', 'bambang']\n"
     ]
    }
   ],
   "source": [
    "print(list_lulus)\n",
    "print(list_remedial)"
   ]
  },
  {
   "cell_type": "code",
   "execution_count": 176,
   "metadata": {
    "colab": {
     "base_uri": "https://localhost:8080/"
    },
    "id": "oTQ0Ska-Z9bF",
    "outputId": "b7420c62-8c52-4276-c2de-23b40f81b10f"
   },
   "outputs": [
    {
     "name": "stdout",
     "output_type": "stream",
     "text": [
      "siswa bernama agus dgn nilai mtk: 83, dinyatakan LULUS!\n",
      "siswa bernama sari dgn nilai mtk: 85, dinyatakan LULUS!\n",
      "siswa bernama putri dgn nilai mtk: 68, dinyatakan TIDAK lulus!\n",
      "siswa bernama bambang dgn nilai mtk: 65, dinyatakan TIDAK lulus!\n"
     ]
    }
   ],
   "source": [
    "list_lulus = []\n",
    "list_remedial = []\n",
    "\n",
    "for value in list_of_dict:  \n",
    "  if value['nilai'] >= 75:\n",
    "    print(f'siswa bernama {value[\"nama\"]} dgn nilai mtk: {value[\"nilai\"]}, dinyatakan LULUS!')\n",
    "    list_lulus.append(value[\"nama\"])\n",
    "  elif value['nilai'] < 75:\n",
    "    print(f'siswa bernama {value[\"nama\"]} dgn nilai mtk: {value[\"nilai\"]}, dinyatakan TIDAK lulus!')\n",
    "    list_remedial.append(value[\"nama\"])\n",
    "  else:\n",
    "    print(f'data siswa bernama {value[\"nama\"]} ERORR!')"
   ]
  },
  {
   "cell_type": "code",
   "execution_count": 158,
   "metadata": {
    "colab": {
     "base_uri": "https://localhost:8080/"
    },
    "id": "lZbPuhJ0Z_TN",
    "outputId": "d78a4f8e-6498-4579-f6da-4d4574cc6be0"
   },
   "outputs": [
    {
     "name": "stdout",
     "output_type": "stream",
     "text": [
      "['agus', 'sari']\n",
      "['putri', 'bambang']\n"
     ]
    }
   ],
   "source": [
    "print(list_lulus)\n",
    "print(list_remedial)"
   ]
  },
  {
   "cell_type": "markdown",
   "metadata": {
    "id": "jbXBpklJaSyw"
   },
   "source": [
    "# ***Study Case***"
   ]
  },
  {
   "cell_type": "code",
   "execution_count": null,
   "metadata": {
    "id": "PFQ-3RbW7_Yf"
   },
   "outputs": [],
   "source": [
    "list_nama = ['agus', 'sari', 'putri', 'bambang']\n",
    "list_nilai_a = [70, 63, 84, 65]\n",
    "list_nilai_b = [63, 44, 79, 83]"
   ]
  },
  {
   "cell_type": "markdown",
   "metadata": {
    "id": "bp-EhS7s0-0x"
   },
   "source": [
    "1. Dari `list_nama`, `list_nilai_a`, dan `list_nilai_b` di atas, buat ***list of dictionaries*** dgn key = **nama**, & **nilai_rata**. Contoh:\n",
    "```\n",
    "[{'nama': 'agus', 'nilai_rata': 66.5},\n",
    " {'nama': 'sari', 'nilai_rata': 53.5},\n",
    " {'nama': 'putri', 'nilai_rata': 81.5},\n",
    " {'nama': 'bambang', 'nilai_rata': 74.0}]\n",
    "```\n",
    "2. kelompokkan nilai berdasarkan range nilai:\n",
    "\n",
    "*   **A**: 80 - 100\n",
    "*   **B**: 70 - 79\n",
    "*   **C**: 60 - 69\n",
    "*   **D**: kurang dari 59\n",
    "\n",
    "3. masukkan nama-nama siswa berdasarkan nilai rata-rata masing-masing, ke dalam **list_range_a**, **list_range_b**, **list_range_c**, **list_range_d**\n",
    "\n"
   ]
  }
 ],
 "metadata": {
  "colab": {
   "collapsed_sections": [],
   "name": "looping_and_conditional.ipynb",
   "provenance": [],
   "toc_visible": true
  },
  "kernelspec": {
   "display_name": "Python 3",
   "language": "python",
   "name": "python3"
  },
  "language_info": {
   "codemirror_mode": {
    "name": "ipython",
    "version": 3
   },
   "file_extension": ".py",
   "mimetype": "text/x-python",
   "name": "python",
   "nbconvert_exporter": "python",
   "pygments_lexer": "ipython3",
   "version": "3.7.4"
  }
 },
 "nbformat": 4,
 "nbformat_minor": 1
}
